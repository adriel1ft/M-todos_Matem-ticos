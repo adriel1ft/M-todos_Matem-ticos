{
 "cells": [
  {
   "cell_type": "markdown",
   "metadata": {},
   "source": [
    "Aluno: Adriel Ferreira Trajano\n",
    "\n",
    "Matrícula: 20220071160"
   ]
  },
  {
   "cell_type": "code",
   "execution_count": null,
   "metadata": {},
   "outputs": [],
   "source": [
    "pip install nbconvert\n"
   ]
  },
  {
   "cell_type": "code",
   "execution_count": 2,
   "metadata": {},
   "outputs": [],
   "source": [
    "import numpy as np"
   ]
  },
  {
   "cell_type": "markdown",
   "metadata": {},
   "source": [
    "Questão 1 - letra d"
   ]
  },
  {
   "cell_type": "markdown",
   "metadata": {},
   "source": [
    "$ B1 = \\{\n",
    "v1 = \\begin{bmatrix} 0 & 1 \\\\ 1 & 0 \\end{bmatrix}, \n",
    "v2 = \\begin{bmatrix} 1 & 1 \\\\ 0 & 1 \\end{bmatrix}, \n",
    "v3 = \\begin{bmatrix} 1 & 0 \\\\ 1 & 1 \\end{bmatrix}, \n",
    "v4 = \\begin{bmatrix} 1 & 1 \\\\ 1 & 0 \\end{bmatrix}\n",
    "\\}\n",
    "$\n",
    "\n"
   ]
  },
  {
   "cell_type": "markdown",
   "metadata": {},
   "source": [
    "$[v]_{B1} = (1, 1, 1, 1)$"
   ]
  },
  {
   "cell_type": "code",
   "execution_count": 3,
   "metadata": {},
   "outputs": [],
   "source": [
    "v1 = np.array([[0,1],[1,0]], dtype=float)\n",
    "v2 = np.array([[1,1],[0,1]], dtype = float)\n",
    "v3 = np.array([[1,0],[1,1]], dtype = float)\n",
    "v4 = np.array([[1,1],[1,0]], dtype = float)\n",
    "B1 = ([v1,v2,v3,v4])"
   ]
  },
  {
   "cell_type": "code",
   "execution_count": 4,
   "metadata": {},
   "outputs": [
    {
     "name": "stdout",
     "output_type": "stream",
     "text": [
      "v1 = [[0. 1.]\n",
      " [1. 0.]]\n",
      "\n",
      "v2 = [[1. 1.]\n",
      " [0. 1.]]\n",
      "\n",
      "v3 = [[1. 0.]\n",
      " [1. 1.]]\n",
      "\n",
      "v4 = [[1. 1.]\n",
      " [1. 0.]]\n",
      "\n"
     ]
    }
   ],
   "source": [
    "i=1\n",
    "for v in B1:\n",
    "    print(f\"v{i} = {v}\\n\")\n",
    "    i+=1"
   ]
  },
  {
   "cell_type": "markdown",
   "metadata": {},
   "source": [
    "* Ortogonalização"
   ]
  },
  {
   "cell_type": "markdown",
   "metadata": {},
   "source": [
    "\\begin{align*}\n",
    "w_1 & = v_1 \\\\\n",
    "w_2 & = \\frac{\\langle v_2, w_1 \\rangle}{\\|w_1\\|^2} \\vec{w_1} \\\\\n",
    "w_3 & = v_3 - \\frac{\\langle v_3, w_1 \\rangle}{\\|w_1\\|^2} \\vec{w_1} - \\frac{\\langle v_3, w_2 \\rangle}{\\|w_2\\|^2} \\vec{w_2} \\\\\n",
    "w_4 & = v_4 - \\frac{\\langle v_4, w_1 \\rangle}{\\|w_1\\|^2} \\vec{w_1} - \\frac{\\langle v_4, w_2 \\rangle}{\\|w_2\\|^2} \\vec{w_2} - \\frac{\\langle v_4, w_3 \\rangle}{\\|w_3\\|^2} \\vec{w_3}\n",
    "\\end{align*}\n"
   ]
  },
  {
   "cell_type": "code",
   "execution_count": 5,
   "metadata": {},
   "outputs": [],
   "source": [
    "ortho_basis = [] #base ortogonal"
   ]
  },
  {
   "cell_type": "markdown",
   "metadata": {},
   "source": [
    "Obs: o código abaixo faz o cálculo dos vetores wk, que formam a base ortogonal"
   ]
  },
  {
   "cell_type": "code",
   "execution_count": 6,
   "metadata": {},
   "outputs": [],
   "source": [
    "# w1 é igual a v1\n",
    "w1 = v1\n",
    "ortho_basis.append(w1)\n",
    "\n",
    "# Calculando w2\n",
    "proj_v2_w1 = (np.trace(np.dot(w1.T, v2)) / np.trace(np.dot(w1.T, w1))**2) * w1\n",
    "w2 = v2 - proj_v2_w1\n",
    "ortho_basis.append(w2)\n",
    "\n",
    "# Calculando w3\n",
    "proj_v3_w2 = (np.trace(np.dot(w2.T, v3)) / np.trace(np.dot(w2.T, w2))**2) * w2\n",
    "proj_v3_w1 = (np.trace(np.dot(w1.T, v3)) / np.trace(np.dot(w1.T, w1))**2) * w1\n",
    "w3 = v3 - proj_v3_w2 - proj_v3_w1\n",
    "ortho_basis.append(w3)\n",
    "\n",
    "# Calculando w4\n",
    "proj_v4_w3 = (np.trace(np.dot(w3.T, v4)) / np.trace(np.dot(w3.T, w3))**2) * w3\n",
    "proj_v4_w2 = (np.trace(np.dot(w2.T, v4)) / np.trace(np.dot(w2.T, w2))**2) * w2\n",
    "proj_v4_w1 = (np.trace(np.dot(w1.T, v4)) / np.trace(np.dot(w1.T, w1))**2) * w1\n",
    "w4 = v4 - proj_v4_w3 - proj_v4_w2 - proj_v4_w1\n",
    "ortho_basis.append(w4)"
   ]
  },
  {
   "cell_type": "code",
   "execution_count": 7,
   "metadata": {},
   "outputs": [
    {
     "name": "stdout",
     "output_type": "stream",
     "text": [
      "w1 = [[0. 1.]\n",
      " [1. 0.]]\n",
      "w2 = [[ 1.    0.75]\n",
      " [-0.25  1.  ]]\n",
      "w3 = [[ 0.74603175 -0.44047619]\n",
      " [ 0.81349206  0.74603175]]\n",
      "w4 = [[ 0.5669595   0.46388486]\n",
      " [ 0.31959489 -0.4330405 ]]\n"
     ]
    }
   ],
   "source": [
    "for i, w in enumerate(ortho_basis, 1):\n",
    "    print(f\"w{i} = {w}\")"
   ]
  },
  {
   "cell_type": "markdown",
   "metadata": {},
   "source": [
    "* Vetores da base ortogonalizada:"
   ]
  },
  {
   "cell_type": "markdown",
   "metadata": {},
   "source": [
    "$ w_1 = \\begin{bmatrix} 0 & 1 \\\\ 1 & 0 \\end{bmatrix} $\n",
    "\n",
    "$ w_2 = \\begin{bmatrix} 1 & 0.75 \\\\ -0.25 & 1 \\end{bmatrix} $\n",
    "\n",
    "$ w_3 = \\begin{bmatrix} 0.74603175 & -0.44047619 \\\\ 0.81349206 & 0.74603175 \\end{bmatrix} $\n",
    "\n",
    "$ w_4 = \\begin{bmatrix} 0.5669595 & 0.46388486 \\\\ 0.31959489 & -0.4330405 \\end{bmatrix} $\n"
   ]
  },
  {
   "cell_type": "markdown",
   "metadata": {},
   "source": [
    "* Vamos agora achar a base ortonormal B2"
   ]
  },
  {
   "cell_type": "code",
   "execution_count": 8,
   "metadata": {},
   "outputs": [],
   "source": [
    "base_ortonormal = []"
   ]
  },
  {
   "cell_type": "markdown",
   "metadata": {},
   "source": [
    "Aqui calculamos os vetores w_til_k, que formam a base ortonomal"
   ]
  },
  {
   "cell_type": "code",
   "execution_count": 9,
   "metadata": {},
   "outputs": [],
   "source": [
    "for i in range(len(ortho_basis)):\n",
    "    w = ortho_basis[i]\n",
    "    w_til = w/np.trace(np.dot(w.T,w))\n",
    "    base_ortonormal.append(w_til) "
   ]
  },
  {
   "cell_type": "code",
   "execution_count": 10,
   "metadata": {},
   "outputs": [],
   "source": [
    "w_til_1, w_til_2, w_til_3, w_til_4 = base_ortonormal"
   ]
  },
  {
   "cell_type": "code",
   "execution_count": 13,
   "metadata": {},
   "outputs": [
    {
     "name": "stdout",
     "output_type": "stream",
     "text": [
      "w_til_1 = [[0.  0.5]\n",
      " [0.5 0. ]]\n",
      "w_til_2 = [[ 0.38095238  0.28571429]\n",
      " [-0.0952381   0.38095238]]\n",
      "w_til_3 = [[ 0.37890494 -0.22371515]\n",
      " [ 0.41316762  0.37890494]]\n",
      "w_til_4 = [[ 0.68614476  0.56140194]\n",
      " [ 0.38677959 -0.52407354]]\n"
     ]
    }
   ],
   "source": [
    "for i, w in enumerate(base_ortonormal, 1):\n",
    "    print(f\"w_til_{i} = {w}\")"
   ]
  },
  {
   "cell_type": "markdown",
   "metadata": {},
   "source": [
    "* Base ortonormalizada"
   ]
  },
  {
   "cell_type": "markdown",
   "metadata": {},
   "source": [
    "$ \n",
    "B2 = \\{\n",
    "\\widetilde{w}_1 = \\begin{bmatrix} 0 & 0.5 \\\\ 0.5 & 0 \\end{bmatrix},$\n",
    "\n",
    "$\\widetilde{w}_2 = \\begin{bmatrix} 0.38095238 & 0.28571429 \\\\ -0.0952381 & 0.38095238 \\end{bmatrix},$\n",
    "\n",
    "$ \\widetilde{w}_3 = \\begin{bmatrix} 0.37890494 & -0.22371515 \\\\ 0.41316762 & 0.37890494 \\end{bmatrix}, $\n",
    "\n",
    "$ \\widetilde{w}_4 = \\begin{bmatrix} 0.68614476 & 0.56140194 \\\\ 0.38677959 & -0.52407354 \\end{bmatrix} \n",
    " \\}$\n"
   ]
  },
  {
   "cell_type": "markdown",
   "metadata": {},
   "source": [
    "* Vamos agora fazer a matriz mudança da base B1 para a base B2 e verificar se a mesma é triangular."
   ]
  },
  {
   "cell_type": "code",
   "execution_count": 17,
   "metadata": {},
   "outputs": [
    {
     "data": {
      "text/plain": [
       "[array([[0. , 0.5],\n",
       "        [0.5, 0. ]]),\n",
       " array([[ 0.38095238,  0.28571429],\n",
       "        [-0.0952381 ,  0.38095238]]),\n",
       " array([[ 0.37890494, -0.22371515],\n",
       "        [ 0.41316762,  0.37890494]]),\n",
       " array([[ 0.68614476,  0.56140194],\n",
       "        [ 0.38677959, -0.52407354]])]"
      ]
     },
     "execution_count": 17,
     "metadata": {},
     "output_type": "execute_result"
    }
   ],
   "source": [
    "B2 = base_ortonormal\n",
    "B2"
   ]
  },
  {
   "cell_type": "markdown",
   "metadata": {},
   "source": [
    "Concatenação das matrizes da base B2"
   ]
  },
  {
   "cell_type": "code",
   "execution_count": 19,
   "metadata": {},
   "outputs": [
    {
     "name": "stdout",
     "output_type": "stream",
     "text": [
      "[[ 0.          0.5         0.38095238  0.28571429  0.37890494 -0.22371515\n",
      "   0.68614476  0.56140194]\n",
      " [ 0.5         0.         -0.0952381   0.38095238  0.41316762  0.37890494\n",
      "   0.38677959 -0.52407354]]\n"
     ]
    }
   ],
   "source": [
    "P = np.concatenate((w_til_1, w_til_2, w_til_3, w_til_4), axis=1)\n",
    "\n",
    "print(P)"
   ]
  },
  {
   "cell_type": "markdown",
   "metadata": {},
   "source": [
    "$$ P = \\begin{bmatrix}\n",
    "0 & 0.5 & 0.38095238 & 0.37890494 & 0.68614476 \\\\\n",
    "0.5 & 0 & 0.28571429 & -0.22371515 & 0.56140194 \\\\\n",
    "0.5 & 0 & -0.0952381 & 0.41316762 & 0.38677959 \\\\\n",
    "0 & 0.5 & 0.38095238 & 0.37890494 & -0.52407354 \\\\\n",
    "\\end{bmatrix} $$\n"
   ]
  },
  {
   "cell_type": "markdown",
   "metadata": {},
   "source": [
    "Não é uma matriz triangular."
   ]
  }
 ],
 "metadata": {
  "kernelspec": {
   "display_name": "base",
   "language": "python",
   "name": "python3"
  },
  "language_info": {
   "codemirror_mode": {
    "name": "ipython",
    "version": 3
   },
   "file_extension": ".py",
   "mimetype": "text/x-python",
   "name": "python",
   "nbconvert_exporter": "python",
   "pygments_lexer": "ipython3",
   "version": "3.9.12"
  }
 },
 "nbformat": 4,
 "nbformat_minor": 2
}
